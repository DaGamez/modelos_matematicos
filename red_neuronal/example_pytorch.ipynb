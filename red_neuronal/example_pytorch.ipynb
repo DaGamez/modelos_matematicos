{
 "cells": [
  {
   "cell_type": "code",
   "execution_count": 6,
   "metadata": {},
   "outputs": [],
   "source": [
    "import torch\n",
    "import torch.nn as nn\n",
    "import torch.optim as optim\n",
    "import torchvision\n",
    "import torchvision.transforms as transforms\n",
    "from torch.utils.data import DataLoader\n",
    "import os\n",
    "os.environ['KMP_DUPLICATE_LIB_OK'] = 'True'\n",
    "%matplotlib inline"
   ]
  },
  {
   "cell_type": "code",
   "execution_count": 7,
   "metadata": {},
   "outputs": [],
   "source": [
    "# Define the neural network\n",
    "class MNISTNN(nn.Module):\n",
    "    def __init__(self, input_size, hidden_size, output_size):\n",
    "        super(MNISTNN, self).__init__()\n",
    "        # Define layers\n",
    "        self.fc1 = nn.Linear(input_size, hidden_size)  # Input to hidden layer\n",
    "        self.relu = nn.ReLU()                         # Activation function\n",
    "        self.fc2 = nn.Linear(hidden_size, output_size) # Hidden to output layer\n",
    "\n",
    "    def forward(self, x):\n",
    "        # Flatten the input image (batch_size, 28, 28) -> (batch_size, 784)\n",
    "        x = x.view(-1, 28 * 28)  # Flatten the image into a 784-dimensional vector\n",
    "        out = self.fc1(x)\n",
    "        out = self.relu(out)\n",
    "        out = self.fc2(out)\n",
    "        return out"
   ]
  },
  {
   "cell_type": "code",
   "execution_count": 8,
   "metadata": {},
   "outputs": [],
   "source": [
    "# Hyperparameters\n",
    "input_size = 28 * 28  # 784 input features (28x28 pixels)\n",
    "hidden_size = 500     # 500 neurons in the hidden layer\n",
    "output_size = 10      # 10 output classes (digits 0-9)\n",
    "num_epochs = 5\n",
    "batch_size = 100\n",
    "learning_rate = 0.001"
   ]
  },
  {
   "cell_type": "code",
   "execution_count": 9,
   "metadata": {},
   "outputs": [],
   "source": [
    "# MNIST dataset (images and labels)\n",
    "transform = transforms.Compose([\n",
    "    transforms.ToTensor(),                    # Convert to tensor\n",
    "    transforms.Normalize((0.1307,), (0.3081,)) # Normalize the images\n",
    "])\n",
    "\n",
    "train_dataset = torchvision.datasets.MNIST(root='./data', train=True, transform=transform, download=False)\n",
    "test_dataset = torchvision.datasets.MNIST(root='./data', train=False, transform=transform)"
   ]
  },
  {
   "cell_type": "code",
   "execution_count": 10,
   "metadata": {},
   "outputs": [],
   "source": [
    "# Data loaders\n",
    "train_loader = DataLoader(dataset=train_dataset, batch_size=batch_size, shuffle=True)\n",
    "test_loader = DataLoader(dataset=test_dataset, batch_size=batch_size, shuffle=False)"
   ]
  },
  {
   "cell_type": "code",
   "execution_count": 11,
   "metadata": {},
   "outputs": [],
   "source": [
    "# Create the model\n",
    "model = MNISTNN(input_size, hidden_size, output_size)\n",
    "# Loss function and optimizer\n",
    "criterion = nn.CrossEntropyLoss()  # Cross-entropy loss for classification\n",
    "optimizer = optim.Adam(model.parameters(), lr=learning_rate)"
   ]
  },
  {
   "cell_type": "code",
   "execution_count": 12,
   "metadata": {},
   "outputs": [
    {
     "name": "stdout",
     "output_type": "stream",
     "text": [
      "Epoch [1/5], Step [100/600], Loss: 0.3323\n",
      "Epoch [1/5], Step [200/600], Loss: 0.1682\n",
      "Epoch [1/5], Step [300/600], Loss: 0.1457\n",
      "Epoch [1/5], Step [400/600], Loss: 0.1665\n",
      "Epoch [1/5], Step [500/600], Loss: 0.1555\n",
      "Epoch [1/5], Step [600/600], Loss: 0.1483\n",
      "Epoch [2/5], Step [100/600], Loss: 0.1232\n",
      "Epoch [2/5], Step [200/600], Loss: 0.1734\n",
      "Epoch [2/5], Step [300/600], Loss: 0.0580\n",
      "Epoch [2/5], Step [400/600], Loss: 0.0389\n",
      "Epoch [2/5], Step [500/600], Loss: 0.0481\n",
      "Epoch [2/5], Step [600/600], Loss: 0.1110\n",
      "Epoch [3/5], Step [100/600], Loss: 0.0447\n",
      "Epoch [3/5], Step [200/600], Loss: 0.1405\n",
      "Epoch [3/5], Step [300/600], Loss: 0.0690\n",
      "Epoch [3/5], Step [400/600], Loss: 0.0632\n",
      "Epoch [3/5], Step [500/600], Loss: 0.0453\n",
      "Epoch [3/5], Step [600/600], Loss: 0.0777\n",
      "Epoch [4/5], Step [100/600], Loss: 0.0334\n",
      "Epoch [4/5], Step [200/600], Loss: 0.0544\n",
      "Epoch [4/5], Step [300/600], Loss: 0.0882\n",
      "Epoch [4/5], Step [400/600], Loss: 0.0276\n",
      "Epoch [4/5], Step [500/600], Loss: 0.0781\n",
      "Epoch [4/5], Step [600/600], Loss: 0.0267\n",
      "Epoch [5/5], Step [100/600], Loss: 0.0576\n",
      "Epoch [5/5], Step [200/600], Loss: 0.0063\n",
      "Epoch [5/5], Step [300/600], Loss: 0.0180\n",
      "Epoch [5/5], Step [400/600], Loss: 0.0084\n",
      "Epoch [5/5], Step [500/600], Loss: 0.0617\n",
      "Epoch [5/5], Step [600/600], Loss: 0.0243\n"
     ]
    }
   ],
   "source": [
    "# Training loop\n",
    "for epoch in range(num_epochs):\n",
    "    for i, (images, labels) in enumerate(train_loader):\n",
    "        # Forward pass\n",
    "        outputs = model(images)\n",
    "        loss = criterion(outputs, labels)\n",
    "\n",
    "        # Backward pass and optimization\n",
    "        optimizer.zero_grad()\n",
    "        loss.backward()\n",
    "        optimizer.step()\n",
    "\n",
    "        if (i+1) % 100 == 0:\n",
    "            print(f'Epoch [{epoch+1}/{num_epochs}], Step [{i+1}/{len(train_loader)}], Loss: {loss.item():.4f}')\n"
   ]
  },
  {
   "cell_type": "code",
   "execution_count": 13,
   "metadata": {},
   "outputs": [
    {
     "name": "stdout",
     "output_type": "stream",
     "text": [
      "Accuracy on the test set: 97.97%\n"
     ]
    }
   ],
   "source": [
    "# Test the model\n",
    "model.eval()  # Set the model to evaluation mode\n",
    "with torch.no_grad():\n",
    "    correct = 0\n",
    "    total = 0\n",
    "    for images, labels in test_loader:\n",
    "        outputs = model(images)\n",
    "        _, predicted = torch.max(outputs.data, 1)\n",
    "        total += labels.size(0)\n",
    "        correct += (predicted == labels).sum().item()\n",
    "\n",
    "    print(f'Accuracy on the test set: {100 * correct / total:.2f}%')"
   ]
  },
  {
   "cell_type": "code",
   "execution_count": 18,
   "metadata": {},
   "outputs": [
    {
     "data": {
      "image/png": "[encoded data removed]",
      "text/plain": [
       "<Figure size 640x480 with 1 Axes>"
      ]
     },
     "metadata": {},
     "output_type": "display_data"
    }
   ],
   "source": [
    "# Pick a sample from the test set\n",
    "sample_image, sample_label = test_dataset[0]  # Get the first sample from the test set\n",
    "\n",
    "# Display the image\n",
    "plt.imshow(sample_image.squeeze(), cmap='gray')  # squeeze() removes extra dimensions (1, 28, 28 -> 28, 28)\n",
    "plt.title(f\"True Label: {sample_label}\")\n",
    "plt.axis('off')  # Optional: Remove axis for better display\n",
    "plt.show()"
   ]
  },
  {
   "cell_type": "code",
   "execution_count": 19,
   "metadata": {},
   "outputs": [
    {
     "name": "stdout",
     "output_type": "stream",
     "text": [
      "Predicted Label: 7\n"
     ]
    }
   ],
   "source": [
    "# Classify the image using the trained model\n",
    "sample_image = sample_image.unsqueeze(0)  # Add batch dimension (1, 1, 28, 28)\n",
    "sample_image = sample_image.to(torch.device('cpu'))  # Ensure it's on the same device as the model\n",
    "\n",
    "with torch.no_grad():\n",
    "    output = model(sample_image)\n",
    "    _, predicted_class = torch.max(output, 1)\n",
    "\n",
    "print(f\"Predicted Label: {predicted_class.item()}\")"
   ]
  },
  {
   "cell_type": "code",
   "execution_count": null,
   "metadata": {},
   "outputs": [],
   "source": []
  }
 ],
 "metadata": {
  "kernelspec": {
   "display_name": "base",
   "language": "python",
   "name": "python3"
  },
  "language_info": {
   "codemirror_mode": {
    "name": "ipython",
    "version": 3
   },
   "file_extension": ".py",
   "mimetype": "text/x-python",
   "name": "python",
   "nbconvert_exporter": "python",
   "pygments_lexer": "ipython3",
   "version": "3.10.9"
  }
 },
 "nbformat": 4,
 "nbformat_minor": 2
}
